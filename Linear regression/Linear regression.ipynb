{
 "cells": [
  {
   "cell_type": "markdown",
   "id": "dc6678d0",
   "metadata": {},
   "source": [
    "# Линейная регрессия"
   ]
  },
  {
   "cell_type": "markdown",
   "id": "e49e4b0f",
   "metadata": {},
   "source": [
    "### Постановка задачи\n",
    "\n",
    "$(\\vec{x}_i, y_i)$ - обучающая выборка ($i = \\overline{1, N}$), где $y_i \\in \\mathbb{R}$ - целевое значение и $\\vec{x}_i \\in \\mathbb{R}^n$ - признаковое описание объекта.\n",
    "\n",
    "Ответ алгоритма основывается на предположении (или априорном знании), что целевое значение линейно зависит от входных данных:\n",
    "\n",
    "$$\n",
    "y_i = \\vec{w} \\cdot \\vec{x}_i + b.\n",
    "$$\n",
    "\n",
    "Здесь $\\vec{w} \\in \\mathbb{R}^n$ и $b \\in \\mathbb{R}$ - параметры алгоритма."
   ]
  },
  {
   "cell_type": "markdown",
   "id": "c0f3da8a",
   "metadata": {},
   "source": [
    "### Метод решения\n",
    "\n",
    "Параметры алгоритма $\\vec{w} \\in \\mathbb{R}^n$ и $b \\in \\mathbb{R}$ ищутся из условия минимизации функции потерь:\n",
    "\n",
    "$$\n",
    "\\hat{\\vec{w}}, \\hat{b} = \\operatorname {argmin}_{\\vec{w}, b} L(\\vec{w}, b) = \\operatorname {argmin}_{\\vec{w}, b} \\frac{1}{N} \\sum_{i=1}^N (\\vec{w} \\cdot \\vec{x}_i + b - y_i)^2.\n",
    "$$\n",
    "\n",
    "\n",
    "\n",
    "Для минимизации этой функции воспользуемся методом градиентного спуска:\n",
    "$$\n",
    "\\vec{w} := \\vec{w} - \\alpha \\nabla_{\\vec{w}} L(\\vec{w}, b) = \\vec{w} - \\alpha \\cdot \\frac{2}{N}\\sum _{i=1}^N (\\vec{w} \\cdot \\vec{x}_i + b - y_i)\\vec{x}_i, \\\\\n",
    "b := b - \\alpha \\nabla_b \\ln L(\\vec{w}, b) = b - \\alpha \\cdot \\frac{2}{N}\\sum _{i=1}^N (\\vec{w} \\cdot \\vec{x}_i + b - y_i).\n",
    "$$\n",
    "\n",
    "Здесь $\\alpha > 0$ - размер градиентного шага."
   ]
  },
  {
   "cell_type": "markdown",
   "id": "b911dc29",
   "metadata": {},
   "source": [
    "# Задача\n",
    "\n",
    "<div>\n",
    "<img src=\"img/Task.jpg\" width=\"700\"/>\n",
    "</div>"
   ]
  },
  {
   "cell_type": "code",
   "execution_count": 1,
   "id": "8a31799c",
   "metadata": {},
   "outputs": [],
   "source": [
    "import pandas as pd\n",
    "import numpy as np\n",
    "import tqdm\n",
    "import matplotlib.pylab as plt\n",
    "%matplotlib inline\n",
    "\n",
    "np.random.seed(0) # Фиксируем генератор «случайных» чисел для воспроизводимости результата"
   ]
  },
  {
   "cell_type": "code",
   "execution_count": 2,
   "id": "318b091a",
   "metadata": {},
   "outputs": [
    {
     "data": {
      "text/html": [
       "<div>\n",
       "<style scoped>\n",
       "    .dataframe tbody tr th:only-of-type {\n",
       "        vertical-align: middle;\n",
       "    }\n",
       "\n",
       "    .dataframe tbody tr th {\n",
       "        vertical-align: top;\n",
       "    }\n",
       "\n",
       "    .dataframe thead th {\n",
       "        text-align: right;\n",
       "    }\n",
       "</style>\n",
       "<table border=\"1\" class=\"dataframe\">\n",
       "  <thead>\n",
       "    <tr style=\"text-align: right;\">\n",
       "      <th></th>\n",
       "      <th>0</th>\n",
       "      <th>1</th>\n",
       "      <th>2</th>\n",
       "      <th>3</th>\n",
       "      <th>4</th>\n",
       "      <th>5</th>\n",
       "      <th>6</th>\n",
       "      <th>7</th>\n",
       "      <th>8</th>\n",
       "      <th>9</th>\n",
       "      <th>...</th>\n",
       "      <th>91</th>\n",
       "      <th>92</th>\n",
       "      <th>93</th>\n",
       "      <th>94</th>\n",
       "      <th>95</th>\n",
       "      <th>96</th>\n",
       "      <th>97</th>\n",
       "      <th>98</th>\n",
       "      <th>99</th>\n",
       "      <th>100</th>\n",
       "    </tr>\n",
       "  </thead>\n",
       "  <tbody>\n",
       "    <tr>\n",
       "      <th>0</th>\n",
       "      <td>5.081360e-03</td>\n",
       "      <td>2.732210e-03</td>\n",
       "      <td>3.976420e-03</td>\n",
       "      <td>0.004540</td>\n",
       "      <td>4.731020e-03</td>\n",
       "      <td>0.005066</td>\n",
       "      <td>0.002552</td>\n",
       "      <td>0.003555</td>\n",
       "      <td>0.003674</td>\n",
       "      <td>4.089900e-03</td>\n",
       "      <td>...</td>\n",
       "      <td>0.005197</td>\n",
       "      <td>1.644370e-03</td>\n",
       "      <td>0.005083</td>\n",
       "      <td>0.004174</td>\n",
       "      <td>0.003957</td>\n",
       "      <td>0.002386</td>\n",
       "      <td>0.004375</td>\n",
       "      <td>8.412300e-04</td>\n",
       "      <td>0.000653</td>\n",
       "      <td>0.284860</td>\n",
       "    </tr>\n",
       "    <tr>\n",
       "      <th>1</th>\n",
       "      <td>4.174910e-03</td>\n",
       "      <td>7.084480e-03</td>\n",
       "      <td>2.123510e-03</td>\n",
       "      <td>0.000003</td>\n",
       "      <td>3.681860e-03</td>\n",
       "      <td>0.004573</td>\n",
       "      <td>0.003550</td>\n",
       "      <td>0.008086</td>\n",
       "      <td>0.006227</td>\n",
       "      <td>3.793680e-03</td>\n",
       "      <td>...</td>\n",
       "      <td>0.000264</td>\n",
       "      <td>5.655750e-03</td>\n",
       "      <td>0.006144</td>\n",
       "      <td>0.000177</td>\n",
       "      <td>0.004394</td>\n",
       "      <td>0.001403</td>\n",
       "      <td>0.002766</td>\n",
       "      <td>3.999750e-03</td>\n",
       "      <td>0.008292</td>\n",
       "      <td>0.401233</td>\n",
       "    </tr>\n",
       "    <tr>\n",
       "      <th>2</th>\n",
       "      <td>1.175410e-03</td>\n",
       "      <td>1.298870e-03</td>\n",
       "      <td>2.000290e-03</td>\n",
       "      <td>0.004009</td>\n",
       "      <td>3.330520e-03</td>\n",
       "      <td>0.004482</td>\n",
       "      <td>0.000404</td>\n",
       "      <td>0.000320</td>\n",
       "      <td>0.000136</td>\n",
       "      <td>3.351720e-03</td>\n",
       "      <td>...</td>\n",
       "      <td>0.003521</td>\n",
       "      <td>3.148270e-03</td>\n",
       "      <td>0.002726</td>\n",
       "      <td>0.003363</td>\n",
       "      <td>0.003507</td>\n",
       "      <td>0.001631</td>\n",
       "      <td>0.003283</td>\n",
       "      <td>2.215900e-04</td>\n",
       "      <td>0.004203</td>\n",
       "      <td>0.239423</td>\n",
       "    </tr>\n",
       "    <tr>\n",
       "      <th>3</th>\n",
       "      <td>5.845890e-03</td>\n",
       "      <td>5.368910e-03</td>\n",
       "      <td>6.507510e-03</td>\n",
       "      <td>0.006121</td>\n",
       "      <td>8.502420e-03</td>\n",
       "      <td>0.008948</td>\n",
       "      <td>0.002689</td>\n",
       "      <td>0.001819</td>\n",
       "      <td>0.000579</td>\n",
       "      <td>1.125160e-03</td>\n",
       "      <td>...</td>\n",
       "      <td>0.006734</td>\n",
       "      <td>5.367000e-05</td>\n",
       "      <td>0.008358</td>\n",
       "      <td>0.003522</td>\n",
       "      <td>0.001091</td>\n",
       "      <td>0.007370</td>\n",
       "      <td>0.002647</td>\n",
       "      <td>6.058580e-03</td>\n",
       "      <td>0.000045</td>\n",
       "      <td>0.491486</td>\n",
       "    </tr>\n",
       "    <tr>\n",
       "      <th>4</th>\n",
       "      <td>5.600000e-07</td>\n",
       "      <td>3.700000e-07</td>\n",
       "      <td>6.200000e-07</td>\n",
       "      <td>0.000002</td>\n",
       "      <td>9.700000e-07</td>\n",
       "      <td>0.000002</td>\n",
       "      <td>0.000002</td>\n",
       "      <td>0.000002</td>\n",
       "      <td>0.000002</td>\n",
       "      <td>6.800000e-07</td>\n",
       "      <td>...</td>\n",
       "      <td>0.000002</td>\n",
       "      <td>9.800000e-07</td>\n",
       "      <td>0.000002</td>\n",
       "      <td>0.000002</td>\n",
       "      <td>0.000001</td>\n",
       "      <td>0.000001</td>\n",
       "      <td>0.000001</td>\n",
       "      <td>8.000000e-07</td>\n",
       "      <td>0.000001</td>\n",
       "      <td>0.000112</td>\n",
       "    </tr>\n",
       "  </tbody>\n",
       "</table>\n",
       "<p>5 rows × 101 columns</p>\n",
       "</div>"
      ],
      "text/plain": [
       "            0             1             2         3             4         5    \\\n",
       "0  5.081360e-03  2.732210e-03  3.976420e-03  0.004540  4.731020e-03  0.005066   \n",
       "1  4.174910e-03  7.084480e-03  2.123510e-03  0.000003  3.681860e-03  0.004573   \n",
       "2  1.175410e-03  1.298870e-03  2.000290e-03  0.004009  3.330520e-03  0.004482   \n",
       "3  5.845890e-03  5.368910e-03  6.507510e-03  0.006121  8.502420e-03  0.008948   \n",
       "4  5.600000e-07  3.700000e-07  6.200000e-07  0.000002  9.700000e-07  0.000002   \n",
       "\n",
       "        6         7         8             9    ...       91            92   \\\n",
       "0  0.002552  0.003555  0.003674  4.089900e-03  ...  0.005197  1.644370e-03   \n",
       "1  0.003550  0.008086  0.006227  3.793680e-03  ...  0.000264  5.655750e-03   \n",
       "2  0.000404  0.000320  0.000136  3.351720e-03  ...  0.003521  3.148270e-03   \n",
       "3  0.002689  0.001819  0.000579  1.125160e-03  ...  0.006734  5.367000e-05   \n",
       "4  0.000002  0.000002  0.000002  6.800000e-07  ...  0.000002  9.800000e-07   \n",
       "\n",
       "        93        94        95        96        97            98        99   \\\n",
       "0  0.005083  0.004174  0.003957  0.002386  0.004375  8.412300e-04  0.000653   \n",
       "1  0.006144  0.000177  0.004394  0.001403  0.002766  3.999750e-03  0.008292   \n",
       "2  0.002726  0.003363  0.003507  0.001631  0.003283  2.215900e-04  0.004203   \n",
       "3  0.008358  0.003522  0.001091  0.007370  0.002647  6.058580e-03  0.000045   \n",
       "4  0.000002  0.000002  0.000001  0.000001  0.000001  8.000000e-07  0.000001   \n",
       "\n",
       "        100  \n",
       "0  0.284860  \n",
       "1  0.401233  \n",
       "2  0.239423  \n",
       "3  0.491486  \n",
       "4  0.000112  \n",
       "\n",
       "[5 rows x 101 columns]"
      ]
     },
     "execution_count": 2,
     "metadata": {},
     "output_type": "execute_result"
    }
   ],
   "source": [
    "df = pd.read_csv(\"train.tsv\", header = None, sep = \"\\t\")\n",
    "df.head()"
   ]
  },
  {
   "cell_type": "code",
   "execution_count": 12,
   "id": "3106c411",
   "metadata": {},
   "outputs": [
    {
     "name": "stdout",
     "output_type": "stream",
     "text": [
      "X_train shape: (10000, 101)\n",
      "Y_train shape: (10000,) \n",
      "\n",
      "X_train: \n",
      " [[1.000000e+00 5.081360e-03 2.732210e-03 ... 4.375370e-03 8.412300e-04\n",
      "  6.529100e-04]\n",
      " [1.000000e+00 4.174910e-03 7.084480e-03 ... 2.766070e-03 3.999750e-03\n",
      "  8.292280e-03]\n",
      " [1.000000e+00 1.175410e-03 1.298870e-03 ... 3.283010e-03 2.215900e-04\n",
      "  4.203090e-03]\n",
      " ...\n",
      " [1.000000e+00 2.114960e-03 1.112993e-02 ... 1.636344e-02 1.119067e-02\n",
      "  2.249600e-03]\n",
      " [1.000000e+00 4.023160e-03 2.407500e-04 ... 4.102650e-03 4.440250e-03\n",
      "  5.700450e-03]\n",
      " [1.000000e+00 9.003000e-04 6.132900e-03 ... 5.207050e-03 4.707980e-03\n",
      "  2.040500e-03]] \n",
      "\n",
      "Y_train: \n",
      " [0.28486006 0.40123294 0.23942324 ... 0.87266402 0.30165096 0.32174571]\n"
     ]
    }
   ],
   "source": [
    "X_train = np.array(df)\n",
    "X_train = np.delete(X_train, 100, 1) # Удаляем последний столбец в X_train\n",
    "\n",
    "x_0 = np.ones(X_train.shape[0])\n",
    "x_0 = x_0[np.newaxis, :].T # Транспонирование numpy не работает для 1-D массивов => приходится выкручиваться\n",
    "X_train = np.hstack((x_0, X_train)) # Добавляем к матрице X_train единичный стобец на первое место\n",
    "\n",
    "Y_train = np.array(df[100])\n",
    "\n",
    "print(\"X_train shape:\", X_train.shape)\n",
    "print(\"Y_train shape:\", Y_train.shape, \"\\n\")\n",
    "\n",
    "print(\"X_train: \\n\", X_train, \"\\n\")\n",
    "print(\"Y_train: \\n\", Y_train)"
   ]
  },
  {
   "cell_type": "code",
   "execution_count": 29,
   "id": "9018915f",
   "metadata": {},
   "outputs": [
    {
     "name": "stdout",
     "output_type": "stream",
     "text": [
      "w shape: (101,)\n",
      "w: \n",
      " [ 0.15398314  0.09175528  0.08963634 -0.22641913 -0.00340634 -0.103345\n",
      "  0.03919728 -0.0137438   0.12745054  0.04441943  0.11010794 -0.06531174\n",
      " -0.13224893 -0.05741844 -0.00238333  0.05309186  0.31636653 -0.00591718\n",
      " -0.13385907 -0.04844714 -0.06491642  0.06742089 -0.21575474  0.00885845\n",
      "  0.0219153   0.03251185 -0.08364098 -0.03331571 -0.19940841 -0.0690786\n",
      " -0.07601581  0.05825866 -0.16189792  0.10938961  0.20926969 -0.28985588\n",
      "  0.05968816  0.09478608 -0.08925904 -0.05562918 -0.018607   -0.04169906\n",
      " -0.04327047 -0.23468748  0.16135869  0.15117684 -0.11389378 -0.20534048\n",
      "  0.07296368 -0.08062644  0.01987742 -0.04471492  0.09683479  0.09728434\n",
      " -0.10160396 -0.1937097  -0.22165571  0.08547021 -0.16647359 -0.07096848\n",
      " -0.08350067 -0.00736089 -0.2711334   0.02643429  0.07335942  0.01238157\n",
      " -0.04353277  0.01363875  0.05587767 -0.38824064  0.27388251  0.05462399\n",
      " -0.09135547 -0.05474442  0.06913768 -0.0162578  -0.2843527   0.28908682\n",
      " -0.01547879  0.14285275 -0.09690636  0.21513582  0.04009614  0.08525519\n",
      " -0.14636475  0.16959426  0.09659386  0.18229493 -0.08794985 -0.06735727\n",
      "  0.32261287 -0.1484319  -0.01903677  0.15919663  0.01368423  0.08162984\n",
      " -0.05593405  0.05181819 -0.18295035  0.23218474 -0.01654628]\n"
     ]
    }
   ],
   "source": [
    "w = np.sqrt(2 / 102) * np.random.normal(loc=0.0, scale=1.0, size = X_train.shape[1])\n",
    "# Инициализация весов значениями распределенными по нормальному закону с матожиданием 0 и дисперсией 1.\n",
    "# Множитель (2 / (out_size + in_size))**(0.5) для лучшего старта обучения\n",
    "\n",
    "print(\"w shape:\", w.shape)\n",
    "print(\"w: \\n\", w)"
   ]
  },
  {
   "cell_type": "code",
   "execution_count": 30,
   "id": "d123f38e",
   "metadata": {},
   "outputs": [],
   "source": [
    "# Квадратичная функция потерь (функция штрафа за неправильное предсказание)\n",
    "def L(x, y, w):\n",
    "    return (x.T@w - y)**2  # Возвращает число\n",
    "\n",
    "\n",
    "# Градиент функции потерь\n",
    "def grad_L(x, y, w):\n",
    "    ans = np.full(10, 2)\n",
    "    ans = ans[np.newaxis, :].T\n",
    "    return 2*np.full(101, np.dot(x.T, w) - y)*x"
   ]
  },
  {
   "cell_type": "code",
   "execution_count": 31,
   "id": "0fcd8a4f",
   "metadata": {},
   "outputs": [
    {
     "data": {
      "application/vnd.jupyter.widget-view+json": {
       "model_id": "a472539bdeb64ae69eb1d7b8a9d1bd66",
       "version_major": 2,
       "version_minor": 0
      },
      "text/plain": [
       "Progress bar:   0%|          | 0/100 [00:00<?, ?it/s]"
      ]
     },
     "metadata": {},
     "output_type": "display_data"
    },
    {
     "name": "stdout",
     "output_type": "stream",
     "text": [
      "CPU times: user 21.4 s, sys: 4.16 s, total: 25.6 s\n",
      "Wall time: 20.3 s\n"
     ]
    }
   ],
   "source": [
    "%%time\n",
    "\n",
    "loss = []\n",
    "\n",
    "for epoch in tqdm.notebook.tqdm(range(100), desc = 'Progress bar'):\n",
    "    for i in range(X_train.shape[0]):\n",
    "        w -= 0.01 * grad_L(X_train[i], Y_train[i], w)\n",
    "        if i % 1000 == 0:\n",
    "            loss.append(L(X_train[i], Y_train[i], w))"
   ]
  },
  {
   "cell_type": "code",
   "execution_count": 35,
   "id": "b4c2b69e",
   "metadata": {},
   "outputs": [
    {
     "data": {
      "text/plain": [
       "[<matplotlib.lines.Line2D at 0x7faed0911eb0>]"
      ]
     },
     "execution_count": 35,
     "metadata": {},
     "output_type": "execute_result"
    },
    {
     "data": {
      "image/png": "[encoded data removed]",
      "text/plain": [
       "<Figure size 432x288 with 1 Axes>"
      ]
     },
     "metadata": {
      "needs_background": "light"
     },
     "output_type": "display_data"
    }
   ],
   "source": [
    "plt.plot(loss)"
   ]
  },
  {
   "cell_type": "code",
   "execution_count": 36,
   "id": "81e6e487",
   "metadata": {},
   "outputs": [
    {
     "name": "stdout",
     "output_type": "stream",
     "text": [
      "MSE: 1.336246040326112e-05\n"
     ]
    }
   ],
   "source": [
    "# Посчитаем среднюю ошибку\n",
    "\n",
    "def MSE(X, Y, W):\n",
    "    l = []\n",
    "    for i in range(X.shape[0]):\n",
    "        l.append(L(X[i], Y[i], w))\n",
    "    \n",
    "    return np.array(l).mean()\n",
    "    \n",
    "print(\"MSE:\", MSE(X_train, Y_train, w))"
   ]
  },
  {
   "cell_type": "markdown",
   "id": "742f7a88",
   "metadata": {},
   "source": [
    "## Аналитическое решение\n",
    "\n",
    "Для задачи восстановления весов $W$ линейной модели есть аналитическое решение:\n",
    "$$\n",
    "W = (X^TX)^{-1}X^TY\n",
    "$$"
   ]
  },
  {
   "cell_type": "code",
   "execution_count": 37,
   "id": "af19a0bf",
   "metadata": {},
   "outputs": [
    {
     "name": "stdout",
     "output_type": "stream",
     "text": [
      "W shape: (101,)\n",
      "W: \n",
      " [1.73472348e-16 1.00000000e+00 1.00000000e+00 1.00000000e+00\n",
      " 1.00000000e+00 1.00000000e+00 1.00000000e+00 1.00000000e+00\n",
      " 1.00000000e+00 1.00000000e+00 1.00000000e+00 1.00000000e+00\n",
      " 1.00000000e+00 1.00000000e+00 1.00000000e+00 1.00000000e+00\n",
      " 1.00000000e+00 1.00000000e+00 1.00000000e+00 1.00000000e+00\n",
      " 1.00000000e+00 1.00000000e+00 1.00000000e+00 1.00000000e+00\n",
      " 1.00000000e+00 1.00000000e+00 1.00000000e+00 1.00000000e+00\n",
      " 1.00000000e+00 1.00000000e+00 1.00000000e+00 1.00000000e+00\n",
      " 1.00000000e+00 1.00000000e+00 1.00000000e+00 1.00000000e+00\n",
      " 1.00000000e+00 1.00000000e+00 1.00000000e+00 1.00000000e+00\n",
      " 1.00000000e+00 1.00000000e+00 1.00000000e+00 1.00000000e+00\n",
      " 1.00000000e+00 1.00000000e+00 1.00000000e+00 1.00000000e+00\n",
      " 1.00000000e+00 1.00000000e+00 1.00000000e+00 1.00000000e+00\n",
      " 1.00000000e+00 1.00000000e+00 1.00000000e+00 1.00000000e+00\n",
      " 1.00000000e+00 1.00000000e+00 1.00000000e+00 1.00000000e+00\n",
      " 1.00000000e+00 1.00000000e+00 1.00000000e+00 1.00000000e+00\n",
      " 1.00000000e+00 1.00000000e+00 1.00000000e+00 1.00000000e+00\n",
      " 1.00000000e+00 1.00000000e+00 1.00000000e+00 1.00000000e+00\n",
      " 1.00000000e+00 1.00000000e+00 1.00000000e+00 1.00000000e+00\n",
      " 1.00000000e+00 1.00000000e+00 1.00000000e+00 1.00000000e+00\n",
      " 1.00000000e+00 1.00000000e+00 1.00000000e+00 1.00000000e+00\n",
      " 1.00000000e+00 1.00000000e+00 1.00000000e+00 1.00000000e+00\n",
      " 1.00000000e+00 1.00000000e+00 1.00000000e+00 1.00000000e+00\n",
      " 1.00000000e+00 1.00000000e+00 1.00000000e+00 1.00000000e+00\n",
      " 1.00000000e+00 1.00000000e+00 1.00000000e+00 1.00000000e+00\n",
      " 1.00000000e+00]\n"
     ]
    }
   ],
   "source": [
    "X = X_train\n",
    "Y = Y_train\n",
    "\n",
    "W = np.linalg.inv(X.T@X)@X.T@Y\n",
    "print(\"W shape:\", W.shape)\n",
    "\n",
    "print(\"W: \\n\", W) # Очень простая зависимость"
   ]
  },
  {
   "cell_type": "code",
   "execution_count": 38,
   "id": "c182ef79",
   "metadata": {},
   "outputs": [
    {
     "name": "stdout",
     "output_type": "stream",
     "text": [
      "MSE: 9.992228806659213e-30\n"
     ]
    }
   ],
   "source": [
    "# Посчитаем среднюю ошибку\n",
    "\n",
    "l = []\n",
    "for i in range(X.shape[0]):\n",
    "    l.append(L(X[i], Y[i], W))\n",
    "    \n",
    "print(\"MSE:\", np.array(l).mean())"
   ]
  }
 ],
 "metadata": {
  "kernelspec": {
   "display_name": "Python 3 (ipykernel)",
   "language": "python",
   "name": "python3"
  },
  "language_info": {
   "codemirror_mode": {
    "name": "ipython",
    "version": 3
   },
   "file_extension": ".py",
   "mimetype": "text/x-python",
   "name": "python",
   "nbconvert_exporter": "python",
   "pygments_lexer": "ipython3",
   "version": "3.8.10"
  }
 },
 "nbformat": 4,
 "nbformat_minor": 5
}
